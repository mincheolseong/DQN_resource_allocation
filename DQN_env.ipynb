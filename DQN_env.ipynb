{
 "cells": [
  {
   "cell_type": "code",
   "execution_count": 1,
   "metadata": {
    "ExecuteTime": {
     "end_time": "2021-03-19T05:22:46.884907Z",
     "start_time": "2021-03-19T05:22:46.762253Z"
    }
   },
   "outputs": [],
   "source": [
    "import numpy as np\n",
    "import math\n",
    "from math import sin, cos, pi, factorial, exp\n",
    "import random\n",
    "from scipy import stats\n",
    "from gym import Env, spaces #module that enables custom environment to conduct\n",
    "from gym.spaces import Discrete, Box #discrete : discrete, box : continous!\n",
    "from collections import deque"
   ]
  },
  {
   "cell_type": "markdown",
   "metadata": {},
   "source": [
    "# Real Custom Environment"
   ]
  },
  {
   "cell_type": "code",
   "execution_count": 16,
   "metadata": {
    "ExecuteTime": {
     "end_time": "2021-03-19T05:25:24.636831Z",
     "start_time": "2021-03-19T05:25:24.352762Z"
    },
    "code_folding": [
     1,
     50,
     78,
     109,
     111,
     123,
     152,
     156,
     165,
     173,
     176,
     185,
     192,
     245,
     327
    ]
   },
   "outputs": [],
   "source": [
    "class CustomEnv:\n",
    "    def __init__(self): \n",
    "        #Setting initializing\n",
    "        self.W = 20 * (10 ** 6) #channel bandwidth\n",
    "        self.I_max = 20 #maximum associated number\n",
    "        self.D = 10000 #size of replay memory\n",
    "        self.B_max = 100 #battery capacity\n",
    "        self.M = 100 #data requests\n",
    "        self.P_tx = 3 #transceiver power\n",
    "        self.P_op = 10 #operation power\n",
    "        self.P__c = 1 #swithcing power\n",
    "        self.background_noise = -174 #backgroud noise\n",
    "        self.alpha = 2 #path loss\n",
    "        self.num_SBS = 5 #the number of SBS\n",
    "        self.N = list(range(1, self.num_SBS + 1)) # SBS set # N = [1, 2, 3, 4, 5]\n",
    "        self.T = 200\n",
    "        self.t = np.int64(np.linspace(0, self.T, self.T)) # Time instant #t = (0, 2, ,,, , 199)\n",
    "        self.time_interval = 1\n",
    "        self.num_episodes = 200\n",
    "        self.Distance = 50\n",
    "        \n",
    "        self.step_count = 0\n",
    "        self.num_user = 0\n",
    "        self.num_actions = 2 ** (self.num_SBS) # = 32\n",
    "        self.state = None\n",
    "        self.action_memory = None\n",
    "        self.zeta = 0.9 #parameter of the utility function, which is to take control of the trade off between EE and delay\n",
    "      \n",
    "    ###action : SBS 5, action = 0,1\n",
    "    ###mapping = {\n",
    "        #          5 4 3 2 1             5 4 3 2 1\n",
    "        #     0 : [0,0,0,0,0] #     1 : [0,0,0,0,1]\n",
    "        #     2 : [0,0,0,1,0]#     3 : [0,0,0,1,1]\n",
    "        #     4 : [0,0,1,0,0]#     5 : [0,0,1,0,1]\n",
    "        #     6 : [0,0,1,1,0]#     7 : [0,0,1,1,1]\n",
    "        #     8 : [0,1,0,0,0]#     9 : [0,1,0,0,1]\n",
    "        #    10 : [0,1,0,1,0]#    11 : [0,1,0,1,1]\n",
    "        #    12 : [0,1,1,0,0]#    13 : [0,1,1,0,1]\n",
    "        #    14 : [0,1,1,1,0]#    15 : [0,1,1,1,1]\n",
    "        #    16 : [1,0,0,0,0]#    17 : [1,0,0,0,1]\n",
    "        #    18 : [1,0,0,1,0]#    19 : [1,0,0,1,1]\n",
    "        #    20 : [1,0,1,0,0]#    21 : [1,0,1,0,1]\n",
    "        #    22 : [1,0,1,1,0]#    23 : [1,0,1,1,1]\n",
    "        #    24 : [1,1,0,0,0]#    25 : [1,1,0,0,1]\n",
    "        #    26 : [1,1,0,1,0]#    27 : [1,1,0,1,1]\n",
    "        #    28 : [1,1,1,0,0]#    29 : [1,1,1,0,1]\n",
    "        #    30 : [1,1,1,1,0]#    31 : [1,1,1,1,1]\n",
    "        ###}###\n",
    "        \n",
    "        \n",
    "        bounds_lower = np.array([\n",
    "            0,\n",
    "            0,\n",
    "            0,\n",
    "            1e-1,\n",
    "            1e-14,\n",
    "            0,\n",
    "            0,\n",
    "            0,\n",
    "            1e-1,\n",
    "            1e-14,\n",
    "            0,\n",
    "            0,\n",
    "            0,\n",
    "            1e-1,\n",
    "            1e-14,\n",
    "            0,\n",
    "            0,\n",
    "            0,\n",
    "            1e-1,\n",
    "            1e-14,\n",
    "            0,\n",
    "            0,\n",
    "            0,\n",
    "            1e-1,\n",
    "            1e-14,\n",
    "            ])\n",
    "\n",
    "        bounds_upper = np.array([\n",
    "            7,\n",
    "            self.B_max,\n",
    "            1,\n",
    "            1e+10,#total throughput max of SBS_1,\n",
    "            1e+9,#total traffic delay max of SBS_1,\n",
    "            7,\n",
    "            self.B_max,\n",
    "            1,\n",
    "            1e+10,#total throughput max of SBS_2,\n",
    "            1e+9,#total traffic delay max of SBS_2,\n",
    "            7,\n",
    "            self.B_max,\n",
    "            1,\n",
    "            1e+10,#total throughput max of SBS_3,\n",
    "            1e+9,#total traffic delay max of SBS_3,\n",
    "            7,\n",
    "            self.B_max,\n",
    "            1,\n",
    "            1e+10,#total throughput max of SBS_4,\n",
    "            1e+9,#total traffic delay max of SBS_4,\n",
    "            7,\n",
    "            self.B_max,\n",
    "            1,\n",
    "            1e+10,#total throughput max of SBS_5,\n",
    "            1e+9,#total traffic delay max of SBS_5,\n",
    "            ])\n",
    "\n",
    "        self.action_space = spaces.Discrete(self.num_actions) # action size is here\n",
    "        self.observation_space = spaces.Box(bounds_lower, bounds_upper, dtype=np.float32) # spaces.Discrete(2) # state size is here \n",
    "\n",
    "    def reset(self):\n",
    "        reset_e = np.random.randint(0,200,self.num_SBS)\n",
    "        self.state = [stats.poisson.rvs(mu = np.cos(self.t)+1)[reset_e][0], 0, np.random.randint(0,self.I_max + 1) / self.I_max, random.uniform(0,1e+10), (5 * self.M) / (random.uniform(1e-10,1e+10) * 2e+7), ########################\n",
    "                      stats.poisson.rvs(mu = np.cos(self.t)+1)[reset_e][1], 0, np.random.randint(0,self.I_max + 1) / self.I_max, random.uniform(0,1e+10), (5 * self.M) / (random.uniform(1e-10,1e+10) * 2e+7),\n",
    "                      stats.poisson.rvs(mu = np.cos(self.t)+1)[reset_e][2], 0, np.random.randint(0,self.I_max + 1) / self.I_max, random.uniform(0,1e+10), (5 * self.M) / (random.uniform(1e-10,1e+10) * 2e+7),\n",
    "                      stats.poisson.rvs(mu = np.cos(self.t)+1)[reset_e][3], 0, np.random.randint(0,self.I_max + 1) / self.I_max, random.uniform(0,1e+10), (5 * self.M) / (random.uniform(1e-10,1e+10) * 2e+7),\n",
    "                      stats.poisson.rvs(mu = np.cos(self.t)+1)[reset_e][4], 0, np.random.randint(0,self.I_max + 1) / self.I_max, random.uniform(0,1e+10), (5 * self.M) / (random.uniform(1e-10,1e+10) * 2e+7),\n",
    "                      \n",
    "                     ]        \n",
    "        self.num_user = 0\n",
    "        self.action_memory = deque(maxlen = self.T)\n",
    "        self.step_count = 0\n",
    "        return self.state\n",
    "    \n",
    "    def step(self, action):\n",
    "        assert self.action_space.contains(action), \"%r (%s) invalid\"%(action, type(action))\n",
    "        state = self.state\n",
    "        reward = 0\n",
    "        global action_memory, step_count # So as to use these variables in def energy_efficiency\n",
    "        step_count = self.step_count\n",
    "        action_memory = self.action_memory\n",
    "        action_memory.append(action)\n",
    "        self.num_user += self.num_users() #The number of users at step t\n",
    "        e_1, b_1, l_1, th_1, d_1, e_2, b_2, l_2, th_2, d_2, e_3, b_3, l_3, th_3, d_3, e_4, b_4, l_4, th_4, d_4, e_5, b_5, l_5, th_5, d_5 = state\n",
    "       \n",
    "        # Update step\n",
    "        i = np.random.randint(0,100,self.num_SBS)\n",
    "        for p in range(self.num_SBS):\n",
    "            state[p * 5] = stats.poisson.rvs(mu = np.cos(self.t)+1)[i][p] #update e in state\n",
    "            state[p * 5 + 1] = self.battery_level(action)[p] #update b in state\n",
    "            state[p * 5 + 2] = self.traffic_load(self.num_user)[0][p] #update l in state\n",
    "            state[p * 5 + 3] = self.total_throughput(self.num_user, action)[1][p] #update r in state\n",
    "            state[p * 5 + 4] = self.total_throughput(self.num_user, action)[2][p] #update d in state\n",
    " \n",
    "        # Calculate reward : In this paper, there is no limit of zeta\n",
    "        reward = self.zeta * self.energy_efficiency(self.num_user, action) - (1 - self.zeta) * self.total_throughput(self.num_user, action)[0]\n",
    "        # Check if episode is done\n",
    "        done = (self.step_count >= self.T)\n",
    "        # Return step information\n",
    "        info = {}\n",
    "        return self.state, reward, done, info\n",
    "    \n",
    "    \n",
    "    def render(self):\n",
    "        # Implement visualization\n",
    "        pass\n",
    " ##############################################################################################################   \n",
    "    def battery_level(self, action): #return : battery_1, battery_2, battery_3, battery_4, battery_5\n",
    "        state = self.state\n",
    "        battery_1 = min(state[1] - (self.P_tx * ((action & 0b00001) / 0b00001)) + state[0], self.B_max)\n",
    "        battery_2 = min(state[6] - (self.P_tx * ((action & 0b00010) / 0b00010)) + state[5], self.B_max)\n",
    "        battery_3 = min(state[11] - (self.P_tx * ((action & 0b00100) / 0b00100)) + state[10], self.B_max)\n",
    "        battery_4 = min(state[16] - (self.P_tx * ((action & 0b01000) / 0b01000)) + state[15], self.B_max)\n",
    "        battery_5 = min(state[21] - (self.P_tx * ((action & 0b10000) / 0b10000)) + state[20], self.B_max)\n",
    "        return battery_1, battery_2, battery_3, battery_4, battery_5\n",
    "    \n",
    "    def num_users(self):#Increasement of users at step #return : num_users\n",
    "        user_come = stats.poisson.rvs(mu = np.sin(self.t)+1)[np.random.randint(0,200)] \n",
    "        user_leave = np.floor(stats.expon.rvs(scale = 1, size = self.T))[np.random.randint(0,200)] \n",
    "        num_users = user_come - user_leave\n",
    "        if num_users < 0:\n",
    "            num_users = 0\n",
    "        return num_users \n",
    "    \n",
    "    def traffic_load(self, num_user): #return : traffic load, user set, dis_dis\n",
    "        #Deciding location of SBS\n",
    "        loc_SBS = [] \n",
    "        for l_SBS in range(self.num_SBS):\n",
    "            radius = np.random.uniform(0,self.Distance)\n",
    "            radian = random.random()\n",
    "            x_SBS = radius * math.cos(2 * math.pi * radian)\n",
    "            y_SBS = radius * math.sin(2 * math.pi * radian)\n",
    "            loc_SBS.append([x_SBS,y_SBS])\n",
    "        \n",
    "        #Deciding location of User\n",
    "        loc_user = []\n",
    "        for l in range(int(num_user)):\n",
    "            radius_ = np.random.uniform(0,self.Distance)\n",
    "            radian_ = random.random()\n",
    "            x_user = radius_ * math.cos(2 * math.pi * radian_)\n",
    "            y_user = radius_ * math.sin(2 * math.pi * radian_)\n",
    "            loc_user.append([x_user,y_user])\n",
    "        \n",
    "        def distance(x1, y1, x2, y2):\n",
    "            result = math.sqrt(math.pow(x1 - x2, 2) + math.pow(y1 - y2, 2))\n",
    "            return result\n",
    "\n",
    "        #Distance between SBSs and users. In other words, that should be a matrix form.\n",
    "        dis_dis = []\n",
    "        for dis in range(int(num_user)):\n",
    "            jth_jth = []\n",
    "            for jth in range(self.num_SBS): \n",
    "                jth_jth.append(distance(loc_SBS[jth][0],loc_SBS[jth][1],loc_user[dis][0],loc_user[dis][1]))\n",
    "            dis_dis.append(jth_jth)\n",
    " \n",
    "        #The set of SBSs that is the nearest to each user.\n",
    "        j_star = [0 for _ in range(int(num_user))]\n",
    "        for y in range(int(num_user)):\n",
    "            j_star[y] = dis_dis[y].index(min(dis_dis[y]))\n",
    "        \n",
    "        def kth_largest_number(arr, K):\n",
    "            unique_nums = set(arr)\n",
    "            sorted_nums = sorted(unique_nums, reverse=False) #\n",
    "            return sorted_nums[K-1]\n",
    "        \n",
    "        def j_kth_star(k):\n",
    "            j_kth_star = []\n",
    "            j_second_star = [0 for _ in range(int(num_user))]\n",
    "            for S_ in range(int(num_user)):\n",
    "                j_second_star[S_] = dis_dis[S_].index(kth_largest_number(dis_dis[S_], k))\n",
    "            j_kth_star.append(j_second_star)     \n",
    "            return j_kth_star\n",
    "\n",
    "        #If user set of a SBS exceeds 20.\n",
    "        user_set = [0 for _ in range(self.num_SBS)]\n",
    "        for u in range(self.num_SBS):\n",
    "                user_set[u] = [j_index for j_index, value in enumerate(j_star) if value == u] \n",
    "                if len(user_set[u]) > self.I_max:\n",
    "                    user_set[u] = [j_index for j_index, value in enumerate(j_kth_star(2)) if value == u]  \n",
    "                    if len(user_set[u]) > self.I_max:\n",
    "                        user_set[u] = [j_index for j_index, value in enumerate(j_kth_star(3)) if value == u]\n",
    "                        if len(user_set[u]) > self.I_max:\n",
    "                            user_set[u] = [j_index for j_index, value in enumerate(j_kth_star(4)) if value == u]\n",
    "                            if len(user_set[u]) > self.I_max:\n",
    "                                user_set[u] = [j_index for j_index, value in enumerate(j_kth_star(5)) if value == u] \n",
    "\n",
    "        abs_user_set = [0 for _ in range(self.num_SBS)]\n",
    "        for a in range(self.num_SBS):\n",
    "            abs_user_set[a] = len(user_set[a])\n",
    "        \n",
    "        traffic_load = [0 for _ in range(self.num_SBS)]\n",
    "        for t in range(self.num_SBS):\n",
    "            traffic_load[t] = abs_user_set[t] / self.I_max\n",
    "\n",
    "        return np.array(traffic_load), np.array(user_set), np.array(dis_dis)\n",
    "\n",
    "    def total_throughput(self, num_user, action): #return : total_delay, total_throughput, traffic_delay\n",
    "        u_set = self.traffic_load(int(num_user))[1]\n",
    "        #Implementation of rho_i_t\n",
    "        act = []\n",
    "        c = 0\n",
    "        for o in range(int(num_user)):\n",
    "            if o in u_set[0]:\n",
    "                c = ((action & 0b00001) / 0b00001)\n",
    "            elif o in u_set[1]:\n",
    "                c = ((action & 0b00010) / 0b00010)\n",
    "            elif o in u_set[2]:\n",
    "                c = ((action & 0b00100) / 0b00100)\n",
    "            elif o in u_set[3]:\n",
    "                c = ((action & 0b01000) / 0b01000)\n",
    "            elif o in u_set[4]:\n",
    "                c = ((action & 0b10000) / 0b10000)\n",
    "            act.append(c)\n",
    "                \n",
    "        ##Numerator of sinr \n",
    "        signal = []\n",
    "        #for s in range(num_user)\n",
    "        for s in range(int(num_user)):   \n",
    "            s_ = []\n",
    "            for si in range(self.num_SBS):\n",
    "                s_.append((self.P_tx) * (np.exp(1) * act[s] * (self.traffic_load(int(num_user))[2][s][si])))            \n",
    "            signal.append(s_)\n",
    "        \n",
    "        ##Implementation path loss to denominator of sinr\n",
    "        signal_alpha = []\n",
    "        for s in range(int(num_user)):   \n",
    "            ph = []\n",
    "            for si in range(self.num_SBS):\n",
    "                ph.append((self.P_tx) * (np.exp(1) * act[s] * (self.traffic_load(int(num_user))[2][s][si] ** (-self.alpha))))            \n",
    "            signal_alpha.append(ph)\n",
    "    \n",
    "        ##Sum\n",
    "        signal_denominator = [0 for _ in range(int(num_user))]\n",
    "        for n_ in range(int(num_user)):\n",
    "            for no in range(self.num_SBS):\n",
    "                signal_denominator[n_] = signal_denominator[n_] + signal_alpha[n_][no]\n",
    "   \n",
    "        sinr = []\n",
    "        for z in range(int(num_user)):\n",
    "            sinr_ = []\n",
    "            for q in range(self.num_SBS):\n",
    "                sinr_.append((signal[z][q]) / ((signal_denominator[z] - (signal_alpha[z][q])) + (2 * 10 **(-13.4))))\n",
    "            sinr.append(sinr_)\n",
    "    \n",
    "        throughput = []\n",
    "        for i in range(int(num_user)):\n",
    "            t_t_j = []\n",
    "            for j in range(self.num_SBS): \n",
    "                t_t_j.append(self.time_interval * self.W * np.log2(1 + sinr[i][j]))\n",
    "            throughput.append(t_t_j)\n",
    "        \n",
    "        total_throughput = [0 for _ in range(self.num_SBS)]\n",
    "        for t in range(self.num_SBS):\n",
    "            for j in range(int(num_user)):\n",
    "                total_throughput[t] = total_throughput[t] + throughput[j][t]\n",
    "                     \n",
    "        data_rate = []\n",
    "        for dy in range(int(num_user)):\n",
    "            data_rate_ = []\n",
    "            for dz in range(self.num_SBS): \n",
    "                data_rate_.append(self.W * throughput[dy][dz])\n",
    "            data_rate.append(data_rate_)\n",
    "            \n",
    "        traffic_delay = [0 for _ in range(self.num_SBS)]\n",
    "        for t in range(self.num_SBS):\n",
    "            for z in range(int(num_user)):\n",
    "                if data_rate[z][t] >= 1e+10:\n",
    "                    data_rate[z][t] = 1e+10\n",
    "                elif data_rate[z][t] <= 1e-10:\n",
    "                    data_rate[z][t] = 1e-10\n",
    "                traffic_delay[t] = traffic_delay[t] + (self.M / data_rate[z][t])   \n",
    "\n",
    "        total_delay = 0\n",
    "        for t in range(self.num_SBS):\n",
    "            total_delay += traffic_delay[t]\n",
    "        \n",
    "        return np.array(total_delay), np.array(total_throughput), np.array(traffic_delay)\n",
    "    \n",
    "    def energy_efficiency(self, num_user, action):#return : np.array(ee)\n",
    "        power_serving = [0 for _ in range(self.num_SBS)]\n",
    "        power_serving[0] = ((self.traffic_load(int(num_user))[0][0] * self.P_op) + self.P_tx) * ((action & 0b00001) / 0b00001)\n",
    "        power_serving[1] = ((self.traffic_load(int(num_user))[0][1] * self.P_op) + self.P_tx) * ((action & 0b00010) / 0b00010)\n",
    "        power_serving[2] = ((self.traffic_load(int(num_user))[0][2] * self.P_op) + self.P_tx) * ((action & 0b00100) / 0b00100)\n",
    "        power_serving[3] = ((self.traffic_load(int(num_user))[0][3] * self.P_op) + self.P_tx) * ((action & 0b01000) / 0b01000)\n",
    "        power_serving[4] = ((self.traffic_load(int(num_user))[0][4] * self.P_op) + self.P_tx) * ((action & 0b10000) / 0b10000)\n",
    "                 \n",
    "        beta = [0 for _ in range(self.num_SBS)]\n",
    "        if (((action_memory[self.step_count]) & 0b00001) / 0b00001) + (((action_memory[self.step_count - 1]) & 0b00001) / 0b00001) == 1:\n",
    "            beta[0] = 1#position transition\n",
    "        else:\n",
    "            beta[0] = 0\n",
    "        if (((action_memory[self.step_count]) & 0b00010) / 0b00010) + (((action_memory[self.step_count - 1]) & 0b00010) / 0b00010) == 1:\n",
    "            beta[1] = 1\n",
    "        else:\n",
    "            beta[1] = 0            \n",
    "        if (((action_memory[self.step_count]) & 0b00100) / 0b00100) + (((action_memory[self.step_count - 1]) & 0b00100) / 0b00100) == 1:\n",
    "            beta[2] = 1\n",
    "        else:\n",
    "            beta[2] = 0            \n",
    "        if (((action_memory[self.step_count]) & 0b01000) / 0b01000) + (((action_memory[self.step_count - 1]) & 0b01000) / 0b01000) == 1:\n",
    "            beta[3] = 1\n",
    "        else:\n",
    "            beta[3] = 0            \n",
    "        if (((action_memory[self.step_count]) & 0b10000) / 0b10000) + (((action_memory[self.step_count - 1]) & 0b10000) / 0b10000) == 1:\n",
    "            beta[4] = 1     \n",
    "        else:\n",
    "            beta[4] = 0\n",
    "        \n",
    "        power_switch = [0 for _ in range(self.num_SBS)]\n",
    "        for p in range(self.num_SBS):\n",
    "            power_switch[p] = beta[p] * self.P__c\n",
    "        \n",
    "        total_p_consumption = [0 for _ in range(self.num_SBS)]\n",
    "        for t in range(self.num_SBS):\n",
    "            total_p_consumption[t] = [power_switch[t] + power_serving[t]]\n",
    "        total_power_consumption = np.sum(total_p_consumption)\n",
    "        \n",
    "        total_j_throughput = 0\n",
    "        for t in range(self.num_SBS):\n",
    "            total_j_throughput += self.total_throughput(int(num_user), action)[1][t]\n",
    "            \n",
    "        ee = [total_j_throughput /  total_power_consumption]\n",
    "        \n",
    "        return np.array(ee) "
   ]
  },
  {
   "cell_type": "code",
   "execution_count": 17,
   "metadata": {
    "ExecuteTime": {
     "end_time": "2021-03-19T05:25:25.001995Z",
     "start_time": "2021-03-19T05:25:24.997009Z"
    }
   },
   "outputs": [],
   "source": [
    "env = CustomEnv()"
   ]
  },
  {
   "cell_type": "code",
   "execution_count": 18,
   "metadata": {
    "ExecuteTime": {
     "end_time": "2021-03-19T05:25:25.773367Z",
     "start_time": "2021-03-19T05:25:25.729516Z"
    }
   },
   "outputs": [
    {
     "data": {
      "text/plain": [
       "([0,\n",
       "  -3.0,\n",
       "  0.0,\n",
       "  0.0,\n",
       "  1e-08,\n",
       "  3,\n",
       "  3.0,\n",
       "  0.0,\n",
       "  0.0,\n",
       "  1000000000000.0,\n",
       "  0,\n",
       "  0.0,\n",
       "  0.05,\n",
       "  201614530.81602463,\n",
       "  1000000000000.0,\n",
       "  4,\n",
       "  1.0,\n",
       "  0.05,\n",
       "  0.0,\n",
       "  1e-08,\n",
       "  0,\n",
       "  0.0,\n",
       "  0.0,\n",
       "  242910217.0452812,\n",
       "  1e-08],\n",
       " array([-4.99906036e+11]),\n",
       " False,\n",
       " {})"
      ]
     },
     "execution_count": 18,
     "metadata": {},
     "output_type": "execute_result"
    }
   ],
   "source": [
    "env.reset()\n",
    "env.step(9)"
   ]
  },
  {
   "cell_type": "code",
   "execution_count": 19,
   "metadata": {
    "ExecuteTime": {
     "end_time": "2021-03-19T05:25:26.432821Z",
     "start_time": "2021-03-19T05:25:26.422897Z"
    },
    "scrolled": true
   },
   "outputs": [
    {
     "data": {
      "text/plain": [
       "26"
      ]
     },
     "execution_count": 19,
     "metadata": {},
     "output_type": "execute_result"
    }
   ],
   "source": [
    "env.action_space.sample()"
   ]
  },
  {
   "cell_type": "code",
   "execution_count": 20,
   "metadata": {
    "ExecuteTime": {
     "end_time": "2021-03-19T05:25:27.009589Z",
     "start_time": "2021-03-19T05:25:27.003604Z"
    }
   },
   "outputs": [],
   "source": [
    "from tensorflow.keras.models import Sequential\n",
    "from tensorflow.keras.layers import Dense, Flatten\n",
    "from tensorflow.keras.optimizers import Adam"
   ]
  },
  {
   "cell_type": "code",
   "execution_count": 21,
   "metadata": {
    "ExecuteTime": {
     "end_time": "2021-03-19T05:25:27.738662Z",
     "start_time": "2021-03-19T05:25:27.734673Z"
    }
   },
   "outputs": [],
   "source": [
    "states = env.observation_space.shape\n",
    "actions = env.action_space.n"
   ]
  },
  {
   "cell_type": "code",
   "execution_count": 22,
   "metadata": {
    "ExecuteTime": {
     "end_time": "2021-03-19T05:25:28.255009Z",
     "start_time": "2021-03-19T05:25:28.249024Z"
    }
   },
   "outputs": [
    {
     "data": {
      "text/plain": [
       "(25,)"
      ]
     },
     "execution_count": 22,
     "metadata": {},
     "output_type": "execute_result"
    }
   ],
   "source": [
    "states"
   ]
  },
  {
   "cell_type": "code",
   "execution_count": 23,
   "metadata": {
    "ExecuteTime": {
     "end_time": "2021-03-19T05:25:29.404681Z",
     "start_time": "2021-03-19T05:25:29.399694Z"
    }
   },
   "outputs": [
    {
     "data": {
      "text/plain": [
       "32"
      ]
     },
     "execution_count": 23,
     "metadata": {},
     "output_type": "execute_result"
    }
   ],
   "source": [
    "actions"
   ]
  },
  {
   "cell_type": "code",
   "execution_count": 24,
   "metadata": {
    "ExecuteTime": {
     "end_time": "2021-03-19T05:25:29.944002Z",
     "start_time": "2021-03-19T05:25:29.937516Z"
    },
    "code_folding": [
     0
    ]
   },
   "outputs": [],
   "source": [
    "def build_model(states, actions):\n",
    "    model = Sequential()\n",
    "    #model.add(Dense(128, input_shape = (25,), activation = 'tanh')) \n",
    "    model.add(Flatten(input_shape = (1,25))) \n",
    "    #Normally, input layer has used \"Flatten\". However, my input_shape is (25,1).\n",
    "    model.add(Dense(64, activation = 'tanh'))\n",
    "    model.add(Dense(32, activation = 'tanh'))\n",
    "    model.add(Dense(actions, activation = 'sigmoid'))\n",
    "    return model  "
   ]
  },
  {
   "cell_type": "code",
   "execution_count": 25,
   "metadata": {
    "ExecuteTime": {
     "end_time": "2021-03-19T05:25:30.895388Z",
     "start_time": "2021-03-19T05:25:30.878430Z"
    }
   },
   "outputs": [
    {
     "ename": "NameError",
     "evalue": "name 'model' is not defined",
     "output_type": "error",
     "traceback": [
      "\u001b[1;31m---------------------------------------------------------------------------\u001b[0m",
      "\u001b[1;31mNameError\u001b[0m                                 Traceback (most recent call last)",
      "\u001b[1;32m<ipython-input-25-04235873f172>\u001b[0m in \u001b[0;36m<module>\u001b[1;34m\u001b[0m\n\u001b[1;32m----> 1\u001b[1;33m \u001b[1;32mdel\u001b[0m \u001b[0mmodel\u001b[0m\u001b[1;33m\u001b[0m\u001b[1;33m\u001b[0m\u001b[0m\n\u001b[0m\u001b[0;32m      2\u001b[0m \u001b[1;31m#Why??!!!!\u001b[0m\u001b[1;33m\u001b[0m\u001b[1;33m\u001b[0m\u001b[1;33m\u001b[0m\u001b[0m\n",
      "\u001b[1;31mNameError\u001b[0m: name 'model' is not defined"
     ]
    }
   ],
   "source": [
    "del model\n",
    "#Why??!!!!"
   ]
  },
  {
   "cell_type": "code",
   "execution_count": 26,
   "metadata": {
    "ExecuteTime": {
     "end_time": "2021-03-19T05:46:31.807982Z",
     "start_time": "2021-03-19T05:46:31.651944Z"
    }
   },
   "outputs": [],
   "source": [
    "model = build_model(states, actions)"
   ]
  },
  {
   "cell_type": "code",
   "execution_count": 27,
   "metadata": {
    "ExecuteTime": {
     "end_time": "2021-03-19T05:46:32.209916Z",
     "start_time": "2021-03-19T05:46:32.196967Z"
    }
   },
   "outputs": [
    {
     "name": "stdout",
     "output_type": "stream",
     "text": [
      "Model: \"sequential\"\n",
      "_________________________________________________________________\n",
      "Layer (type)                 Output Shape              Param #   \n",
      "=================================================================\n",
      "flatten (Flatten)            (None, 25)                0         \n",
      "_________________________________________________________________\n",
      "dense (Dense)                (None, 64)                1664      \n",
      "_________________________________________________________________\n",
      "dense_1 (Dense)              (None, 32)                2080      \n",
      "_________________________________________________________________\n",
      "dense_2 (Dense)              (None, 32)                1056      \n",
      "=================================================================\n",
      "Total params: 4,800\n",
      "Trainable params: 4,800\n",
      "Non-trainable params: 0\n",
      "_________________________________________________________________\n"
     ]
    }
   ],
   "source": [
    "model.summary()"
   ]
  },
  {
   "cell_type": "code",
   "execution_count": null,
   "metadata": {
    "ExecuteTime": {
     "end_time": "2021-03-19T05:22:52.501137Z",
     "start_time": "2021-03-19T05:22:46.750Z"
    }
   },
   "outputs": [],
   "source": [
    "from rl.agents import DQNAgent\n",
    "from rl.policy import BoltzmannQPolicy\n",
    "from rl.memory import SequentialMemory"
   ]
  },
  {
   "cell_type": "code",
   "execution_count": 19,
   "metadata": {
    "ExecuteTime": {
     "end_time": "2021-03-19T05:21:35.910843Z",
     "start_time": "2021-03-19T05:21:35.903862Z"
    },
    "code_folding": []
   },
   "outputs": [],
   "source": [
    "def build_agent(model, acitons):\n",
    "    K =200\n",
    "    policy = BoltzmannQPolicy()\n",
    "    memory = SequentialMemory(limit = K, window_length = 1)\n",
    "    #\"window_length\" decides how many observations would be admitted as a \"state\"\n",
    "    #DQN on Atari같은 경우는 공의 속도를 알기 위해 window 4개를 1개의 state로 인정했지\n",
    "    dqn = DQNAgent(model = model, memory = memory, policy = policy, nb_actions = actions, \n",
    "                   nb_steps_warmup = K, \n",
    "                   target_model_update = 1e-3)\n",
    "    #nb_steps_warmup : experience replay쓰기전에 얼마나 기다릴 것인가(적당한 batch size 생성위해)\n",
    "    #target_model_update : target net 얼마나 고정시킬 것이냐\n",
    "    return dqn"
   ]
  },
  {
   "cell_type": "code",
   "execution_count": null,
   "metadata": {
    "ExecuteTime": {
     "start_time": "2021-03-19T05:21:36.435Z"
    }
   },
   "outputs": [
    {
     "name": "stdout",
     "output_type": "stream",
     "text": [
      "Training for 200 steps ...\n",
      "Interval 1 (0 steps performed)\n",
      "   36/10000 [..............................] - ETA: 4:20:24 - reward: -4318867041507.5410"
     ]
    }
   ],
   "source": [
    "K = 100\n",
    "dqn = build_agent(model, actions)\n",
    "dqn.compile(Adam(lr = 1e-3), metrics = ['mse'])\n",
    "#compile(self, optimizer, metrics = [])\n",
    "dqn.fit(env, nb_steps = K, visualize = False, verbose = 1)\n",
    "#nb_steps : number of training steps to be performed"
   ]
  },
  {
   "cell_type": "code",
   "execution_count": null,
   "metadata": {},
   "outputs": [],
   "source": []
  },
  {
   "cell_type": "code",
   "execution_count": null,
   "metadata": {},
   "outputs": [],
   "source": []
  }
 ],
 "metadata": {
  "kernelspec": {
   "display_name": "Python 3",
   "language": "python",
   "name": "python3"
  },
  "toc": {
   "base_numbering": 1,
   "nav_menu": {},
   "number_sections": true,
   "sideBar": true,
   "skip_h1_title": false,
   "title_cell": "Table of Contents",
   "title_sidebar": "Contents",
   "toc_cell": false,
   "toc_position": {},
   "toc_section_display": true,
   "toc_window_display": false
  }
 },
 "nbformat": 4,
 "nbformat_minor": 4
}
